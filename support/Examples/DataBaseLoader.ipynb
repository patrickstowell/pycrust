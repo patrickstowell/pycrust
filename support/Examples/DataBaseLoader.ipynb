{
 "cells": [
  {
   "cell_type": "code",
   "execution_count": 1,
   "id": "f1b5b6a7-7e53-43c6-9df7-d23373cb2d73",
   "metadata": {},
   "outputs": [
    {
     "name": "stdout",
     "output_type": "stream",
     "text": [
      "GEANT4 : Loading modules\n",
      "GEANT4 : Loading complete.\n",
      "GEANT4 : Imported all definitions.\n"
     ]
    }
   ],
   "source": [
    "import os\n",
    "os.environ['PYTHONPATH'] = '/custom'\n",
    "\n",
    "import g4ppyy as g4"
   ]
  },
  {
   "cell_type": "code",
   "execution_count": 2,
   "id": "5b8a30ce-c10e-4f5f-8096-228894580ec0",
   "metadata": {},
   "outputs": [
    {
     "name": "stdout",
     "output_type": "stream",
     "text": [
      "G4PPYY : Importing Database.\n"
     ]
    }
   ],
   "source": [
    "import Database as db"
   ]
  },
  {
   "cell_type": "code",
   "execution_count": 6,
   "id": "c7549666-4196-41c0-816d-d345efbe5e27",
   "metadata": {},
   "outputs": [],
   "source": [
    "tab = db.water.GetMaterialPropertiesTable()"
   ]
  },
  {
   "cell_type": "code",
   "execution_count": 7,
   "id": "2a9ddc2c-33bf-4d9b-9451-14d3ed86e633",
   "metadata": {},
   "outputs": [
    {
     "name": "stdout",
     "output_type": "stream",
     "text": [
      "0: RINDEX\n",
      "1e-07   1.33\n",
      "0.0001   1.33\n",
      "9: GROUPVEL\n",
      "1e-07   225.408\n",
      "0.0001   225.408\n"
     ]
    }
   ],
   "source": [
    "tab.DumpTable()"
   ]
  },
  {
   "cell_type": "code",
   "execution_count": null,
   "id": "d55495dd-bbda-4c25-8c81-a1b83f122ad6",
   "metadata": {},
   "outputs": [],
   "source": []
  }
 ],
 "metadata": {
  "kernelspec": {
   "display_name": "Python 3 (ipykernel)",
   "language": "python",
   "name": "python3"
  },
  "language_info": {
   "codemirror_mode": {
    "name": "ipython",
    "version": 3
   },
   "file_extension": ".py",
   "mimetype": "text/x-python",
   "name": "python",
   "nbconvert_exporter": "python",
   "pygments_lexer": "ipython3",
   "version": "3.9.18"
  }
 },
 "nbformat": 4,
 "nbformat_minor": 5
}
