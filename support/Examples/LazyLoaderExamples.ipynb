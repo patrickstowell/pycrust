{
 "cells": [
  {
   "cell_type": "code",
   "execution_count": 1,
   "id": "8dea81b2-8487-4060-bd07-553f144e6eb6",
   "metadata": {},
   "outputs": [
    {
     "name": "stdout",
     "output_type": "stream",
     "text": [
      "GEANT4 : Loading modules\n",
      "GEANT4 : Loading complete.\n",
      "GEANT4 : Imported all definitions.\n"
     ]
    }
   ],
   "source": [
    "import g4ppyy"
   ]
  },
  {
   "cell_type": "code",
   "execution_count": 2,
   "id": "8721faa6-a34b-49c2-b01d-8254a6fe1072",
   "metadata": {},
   "outputs": [
    {
     "data": {
      "text/plain": [
       "<class cppyy.gbl.G4Visible at 0x556966d5d390>"
      ]
     },
     "execution_count": 2,
     "metadata": {},
     "output_type": "execute_result"
    }
   ],
   "source": [
    "g4ppyy.G4Visible"
   ]
  },
  {
   "cell_type": "code",
   "execution_count": 3,
   "id": "f690301d-3876-44a3-b49e-fee7fae71dc0",
   "metadata": {},
   "outputs": [
    {
     "data": {
      "text/plain": [
       "<class cppyy.gbl.G4Tet at 0x556966d68f30>"
      ]
     },
     "execution_count": 3,
     "metadata": {},
     "output_type": "execute_result"
    }
   ],
   "source": [
    "g4ppyy.G4Tet"
   ]
  },
  {
   "cell_type": "code",
   "execution_count": 4,
   "id": "8410342b-1ce5-4d83-88a0-950828a5d40f",
   "metadata": {},
   "outputs": [
    {
     "name": "stdout",
     "output_type": "stream",
     "text": [
      "G4Circle.hh G4Circle\n"
     ]
    }
   ],
   "source": [
    "g4ppyy.lazy_load(\"G4Circ*\")"
   ]
  },
  {
   "cell_type": "code",
   "execution_count": 5,
   "id": "87f17687-0911-461e-8d74-c38cbcca47b3",
   "metadata": {},
   "outputs": [
    {
     "data": {
      "text/plain": [
       "<class cppyy.gbl.G4Circle at 0x556966d98930>"
      ]
     },
     "execution_count": 5,
     "metadata": {},
     "output_type": "execute_result"
    }
   ],
   "source": [
    "g4ppyy.G4Circle"
   ]
  },
  {
   "cell_type": "code",
   "execution_count": 6,
   "id": "fe2aaa8c-29b1-4ad5-8f73-046c5572dde7",
   "metadata": {},
   "outputs": [
    {
     "name": "stdout",
     "output_type": "stream",
     "text": [
      "<<< Geant4 Physics List simulation engine: FTFP_BERT\n",
      "\n"
     ]
    },
    {
     "data": {
      "text/plain": [
       "<cppyy.gbl.FTFP_BERT object at 0x556966e72fe0>"
      ]
     },
     "execution_count": 6,
     "metadata": {},
     "output_type": "execute_result"
    }
   ],
   "source": [
    "g4ppyy.FTFP_BERT()"
   ]
  },
  {
   "cell_type": "code",
   "execution_count": 7,
   "id": "5d24e2a1-f323-4f51-8cfd-cb092034ee3b",
   "metadata": {},
   "outputs": [
    {
     "name": "stdout",
     "output_type": "stream",
     "text": [
      "FTFP_BERT.hh FTFP_BERT\n",
      "FTFP_BERT_ATL.hh FTFP_BERT_ATL\n",
      "FTFP_BERT_HP.hh FTFP_BERT_HP\n",
      "FTFP_BERT_TRV.hh FTFP_BERT_TRV\n",
      "FTFP_INCLXX.hh FTFP_INCLXX\n",
      "FTFP_INCLXX_HP.hh FTFP_INCLXX_HP\n"
     ]
    }
   ],
   "source": [
    "g4ppyy.lazy_load(\"FTFP*\")\n"
   ]
  },
  {
   "cell_type": "code",
   "execution_count": 8,
   "id": "40018c05-8887-4f90-b550-1a2bfe335d71",
   "metadata": {},
   "outputs": [
    {
     "name": "stdout",
     "output_type": "stream",
     "text": [
      "<<< Geant4 Physics List simulation engine: FTFP_INCLXX (based on INCLXXPhysicsListHelper)\n",
      "\n",
      "*=====================================================================\n",
      "*                                                                     \n",
      "*   The Physics list FTFP_INCLXX is an experimental physics list !   \n",
      "*                                                                      \n",
      "*   Please  report your use case for, and your experience with this    \n",
      "*    physics list on the Geant4 User Forum dedicated to physics lists: \n",
      "*  http://hypernews.slac.stanford.edu/HyperNews/geant4/get/phys-list.html\n",
      "*                                                                      \n",
      "*=====================================================================*\n",
      "\n"
     ]
    },
    {
     "data": {
      "text/plain": [
       "<cppyy.gbl.TINCLXXPhysicsListHelper<G4VModularPhysicsList,false,true> object at 0x556962fd9de0>"
      ]
     },
     "execution_count": 8,
     "metadata": {},
     "output_type": "execute_result"
    }
   ],
   "source": [
    "g4ppyy.FTFP_INCLXX()"
   ]
  },
  {
   "cell_type": "code",
   "execution_count": null,
   "id": "b9beeda9-d7bd-4212-9df9-20c58dd889bc",
   "metadata": {},
   "outputs": [],
   "source": []
  }
 ],
 "metadata": {
  "kernelspec": {
   "display_name": "Python 3 (ipykernel)",
   "language": "python",
   "name": "python3"
  },
  "language_info": {
   "codemirror_mode": {
    "name": "ipython",
    "version": 3
   },
   "file_extension": ".py",
   "mimetype": "text/x-python",
   "name": "python",
   "nbconvert_exporter": "python",
   "pygments_lexer": "ipython3",
   "version": "3.9.18"
  }
 },
 "nbformat": 4,
 "nbformat_minor": 5
}
