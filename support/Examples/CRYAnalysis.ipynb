{
 "cells": [
  {
   "cell_type": "code",
   "execution_count": 1,
   "id": "53228c24-ca32-480f-9286-ff55b705cae4",
   "metadata": {
    "scrolled": true
   },
   "outputs": [
    {
     "name": "stdout",
     "output_type": "stream",
     "text": [
      "[G4PPYY] : Geant4 Python wrapper for CPPYY\n",
      "[G4PPYY] : author: P. Stowell\n",
      "[G4PPYY] : Loading G4 Modules.\n",
      "[G4PPYY] : G4PREFIX : /app/geant4-v11.2.2/install\n",
      "[G4PPYY] : G4VERSION : 11.2.2\n",
      "[G4PPYY] : Module loading complete.\n",
      "Jupyter Magic : g4_k3d g4_compile\n",
      "[G4PPYY] : Imported all definitions.\n",
      "\n",
      "**************************************************************\n",
      " Geant4 version Name: geant4-11-02-patch-02 [MT]   (21-June-2024)\n",
      "                       Copyright : Geant4 Collaboration\n",
      "                      References : NIM A 506 (2003), 250-303\n",
      "                                 : IEEE-TNS 53 (2006), 270-278\n",
      "                                 : NIM A 835 (2016), 186-225\n",
      "                             WWW : http://geant4.org/\n",
      "**************************************************************\n",
      "\n",
      "<<< Geant4 Physics List simulation engine: QGSP_BERT\n",
      "\n",
      "Running initializer\n",
      "Available UI session types: [ tcsh, csh ]\n",
      "### Adding tracking cuts for neutron  TimeCut(ns)= 10000  KinEnergyCut(MeV)= 0\n",
      "CRY::CRYSetup: Setting returnNeutrons to 1\n",
      "CRY::CRYSetup: Setting returnProtons to 1\n",
      "CRY::CRYSetup: Setting returnGammas to 1\n",
      "CRY::CRYSetup: Setting returnPions to 1\n",
      "CRY::CRYSetup: Setting returnKaons to 1\n",
      "CRY::CRYSetup: Setting date to 7-1-2012 (month-day-year)\n",
      "CRY::CRYSetup: Setting latitude to 90\n",
      "CRY::CRYSetup: Setting altitude to 0\n",
      "CRY::CRYSetup: Setting subboxLength to 4\n"
     ]
    }
   ],
   "source": [
    "import os\n",
    "\n",
    "import cppyy.ll\n",
    "cppyy.ll.set_signals_as_exception(True)\n",
    "\n",
    "import pandas as pd\n",
    "import matplotlib.pyplot as plt\n",
    "\n",
    "import g4ppyy as g4\n",
    "from g4ppyy.SI import mm, cm, m, eV, MeV, GeV, twopi, deg\n",
    "\n",
    "import random\n",
    "gRunManager = g4.G4RunManager()\n",
    "\n",
    "class neutron_tracker(g4.G4VSensitiveDetector):\n",
    "    def Reset(self):\n",
    "        self.neutron_event = {\n",
    "            \"eid\": [],\n",
    "            \"edep\": [],\n",
    "            \"x\": [],\n",
    "            \"y\": [],\n",
    "            \"z\": []        \n",
    "        }\n",
    "                \n",
    "    def ProcessHits(self, aStep, ROhist):\n",
    "        \n",
    "        pdg = (aStep.GetTrack().GetParticleDefinition().GetPDGEncoding())\n",
    "        if not (pdg == 2112): return 0\n",
    "\n",
    "        eid = int(gRunManager.GetCurrentEvent().GetEventID())\n",
    "\n",
    "        self.neutron_event[\"eid\"].append( eid )\n",
    "        \n",
    "        pos = aStep.GetPreStepPoint().GetPosition() \n",
    "        dirs = aStep.GetTrack().GetMomentumDirection() \n",
    "        ek = aStep.GetPreStepPoint().GetTotalEnergy() \n",
    "\n",
    "        self.neutron_event[\"edep\"].append(aStep.GetTotalEnergyDeposit())\n",
    "        self.neutron_event[\"x\"].append(pos.x())\n",
    "        self.neutron_event[\"y\"].append(pos.y())\n",
    "        self.neutron_event[\"z\"].append(pos.z())\n",
    "        \n",
    "        aStep.GetTrack().SetTrackStatus(g4.G4TrackStatus.fStopAndKill)\n",
    "\n",
    "        return 1\n",
    "\n",
    "    def StartOfRunAction(self):\n",
    "        self.Reset()\n",
    "\n",
    "    def EndOfRunAction(self):\n",
    "        self.df = pd.DataFrame(data=self.neutron_event)\n",
    "\n",
    "    def VisualizationAction(self):\n",
    "        \n",
    "        plt.scatter(self.df.x, self.df.y, c=self.df.edep)\n",
    "        plt.title(str(self.GetName()) + \" : XY Edep\")\n",
    "        plt.xlabel(\"x [mm]\")\n",
    "        plt.ylabel(\"z [mm]\")\n",
    "        plt.show()\n",
    "        \n",
    "        plt.scatter(self.df.x, self.df.z, c=self.df.edep)\n",
    "        plt.title(str(self.GetName()) + \" : XZ Edep\")\n",
    "        plt.xlabel(\"x [mm]\")\n",
    "        plt.xlabel(\"z [mm]\")\n",
    "        plt.show()\n",
    "\n",
    "\n",
    "class custom_world(g4.cppyy.gbl.G4VUserDetectorConstruction):         \n",
    "    def BuildMaterials(self):\n",
    "        # Material definitions\n",
    "        self.water_mat = g4.gNistManager.FindOrBuildMaterial(\"G4_AIR\")\n",
    "\n",
    "    def BuildWorld(self):\n",
    "        # Mother Box\n",
    "        self.world = g4.builder.build_component(\"world\", solid=\"box\", x=4*m, y=4*m, z=2*m, material=self.water_mat, drawstyle=\"wireframe\")\n",
    "\n",
    "        # World Geometries        \n",
    "        self.hdpe_outer   = g4.builder.build_component(\"shell\", solid=\"tubs\", rot=[90*deg, 0.0, 0.0], rmax=22*cm, z=1.2*m/2, mother=self.world, material=\"G4_POLYETHYLENE\", color=[0.0,0.0,1.0,0.8], drawstyle=\"solid\")\n",
    "        self.water_inner  = g4.builder.build_component(\"water\", solid=\"tubs\", rmax=18*cm, z=1.2*m/2, mother=self.hdpe_outer, material=\"G4_WATER\", color=[0.5,0.5,1.0,0.1], drawstyle=\"solid\")\n",
    "        self.hdpe_endcap1 = g4.builder.build_component(\"cap1\", solid=\"tubs\", rmax=18*cm, z=1*cm, mother=self.water_inner, material=\"G4_POLYETHYLENE\", color=[1.0,0.2,1.0,0.8], drawstyle=\"solid\", pos=[0.0, 0.0, +1.2*m/2 - 1*cm])\n",
    "        self.hdpe_endcap2 = g4.builder.build_component(\"cap2\", solid=\"tubs\", rmax=18*cm, z=1*cm, mother=self.water_inner, material=\"G4_POLYETHYLENE\", color=[1.0,0.2,1.0,0.8], drawstyle=\"solid\", pos=[0.0, 0.0, -1.2*m/2 + 1*cm])\n",
    "\n",
    "    def BuildDetectors(self):\n",
    "        self.hdpe_det = neutron_tracker(\"hdpe_det\")        \n",
    "        self.hdpe_outer.GetLogicalVolume().SetSensitiveDetector(self.hdpe_det)\n",
    "        g4.run.register_detector_hooks(detector.hdpe_det)\n",
    "\n",
    "    def Construct(self):\n",
    "        self.BuildMaterials()\n",
    "        self.BuildWorld()\n",
    "        self.BuildDetectors()\n",
    "        \n",
    "        # Return the mother\n",
    "        return self.world # top mother volume\n",
    "\n",
    "\n",
    "# Add Physics List\n",
    "physics = g4.QGSP_BERT()\n",
    "gRunManager.SetUserInitialization(physics)\n",
    "\n",
    "# Add a World\n",
    "detector = g4.new(custom_world())\n",
    "gRunManager.SetUserInitialization(detector)\n",
    "\n",
    "# Add a Generator\n",
    "gen = g4.new(g4.PrimaryGeneratorAction(\"\", 1*m))\n",
    "gRunManager.SetUserAction(gen)\n",
    "\n",
    "# Add standard GEANT4 Actions\n",
    "g4.run.add_default_actions(gRunManager)\n",
    "\n",
    "# Setup vis to check geometry (optioonal)\n",
    "g4.run.create_visualization(gRunManager)\n",
    "\n",
    "g4.mc.vis.scene.add.trajectories(\"rich\")\n",
    "\n",
    "traj_mc = g4.mc.vis.modeling.trajectories\n",
    "traj_mc.create.drawByParticleID()\n",
    "traj_mc.drawByParticleID_0.default.setDrawStepPts(True)\n",
    "traj_mc.drawByParticleID_0.default.setStepPtsSize(1)\n",
    "traj_mc.drawByParticleID_0.set(\"e+\",\"white\")\n",
    "traj_mc.drawByParticleID_0.set(\"e-\",\"white\")\n",
    "traj_mc.drawByParticleID_0.set(\"gamma\",\"yellow\")\n",
    "traj_mc.drawByParticleID_0.set(\"neutron\",\"magenta\")\n",
    "traj_mc.drawByParticleID_0.set(\"proton\",\"blue\")\n",
    "traj_mc.drawByParticleID_0.set(\"pi+\",\"red\")\n",
    "traj_mc.drawByParticleID_0.set(\"pi-\",\"red\")\n",
    "traj_mc.drawByParticleID_0.set(\"pi0\",\"grey\")\n",
    "traj_mc.drawByParticleID_0.set(\"mu-\",\"red\")\n",
    "traj_mc.drawByParticleID_0.set(\"mu+\",\"red\")\n",
    "\n",
    "g4.mc.CRY.input(\"returnNeutrons 1\")\n",
    "g4.mc.CRY.input(\"returnProtons 1\")\n",
    "g4.mc.CRY.input(\"returnGammas 1\")\n",
    "g4.mc.CRY.input(\"returnPions 1\")\n",
    "g4.mc.CRY.input(\"returnKaons 1\")\n",
    "g4.mc.CRY.input(\"date 7-1-2012\")\n",
    "g4.mc.CRY.input(\"latitude 90.0\")\n",
    "g4.mc.CRY.input(\"altitude 0\")\n",
    "g4.mc.CRY.input(\"subboxLength 4\")\n",
    "g4.mc.CRY.update()\n",
    "# Generate some events\n",
    "\n",
    "import os\n",
    "from contextlib import redirect_stdout\n",
    "\n",
    "with redirect_stdout(open(os.devnull, 'w')):\n",
    "    g4.run.handle_beam(gRunManager, 1000)\n",
    "        "
   ]
  },
  {
   "cell_type": "code",
   "execution_count": 2,
   "id": "34532542-a5f4-44bd-b55f-ccd35a32c275",
   "metadata": {},
   "outputs": [
    {
     "name": "stdout",
     "output_type": "stream",
     "text": [
      "50000 62583 50000\n"
     ]
    },
    {
     "name": "stderr",
     "output_type": "stream",
     "text": [
      "/usr/local/lib/python3.9/site-packages/traittypes/traittypes.py:97: UserWarning: Given trait value dtype \"uint32\" does not match required type \"float32\". A coerced copy has been created.\n",
      "  warnings.warn(\n"
     ]
    },
    {
     "data": {
      "application/vnd.jupyter.widget-view+json": {
       "model_id": "9e9358afd09649ddb0a02d32ec14a909",
       "version_major": 2,
       "version_minor": 0
      },
      "text/plain": [
       "Output()"
      ]
     },
     "metadata": {},
     "output_type": "display_data"
    },
    {
     "data": {
      "image/png": "[encoded data removed]",
      "text/plain": [
       "<Figure size 640x480 with 1 Axes>"
      ]
     },
     "metadata": {},
     "output_type": "display_data"
    },
    {
     "data": {
      "image/png": "[encoded data removed]",
      "text/plain": [
       "<Figure size 640x480 with 1 Axes>"
      ]
     },
     "metadata": {},
     "output_type": "display_data"
    }
   ],
   "source": [
    "# Draw the vis plot (optional)\n",
    "g4.run.draw_visualization(gRunManager)"
   ]
  },
  {
   "cell_type": "code",
   "execution_count": null,
   "id": "6d347e55-c3b5-4f1a-96d8-fa17d70f1dd6",
   "metadata": {},
   "outputs": [],
   "source": []
  },
  {
   "cell_type": "code",
   "execution_count": null,
   "id": "c58c1457-92f1-465b-982f-720181693d21",
   "metadata": {},
   "outputs": [],
   "source": []
  },
  {
   "cell_type": "code",
   "execution_count": null,
   "id": "47c5617e-4ccb-44e6-8ec1-cb10c774cd94",
   "metadata": {},
   "outputs": [],
   "source": []
  },
  {
   "cell_type": "code",
   "execution_count": null,
   "id": "8b8d42fd-53bd-4e3b-ac34-f12714e3ea96",
   "metadata": {},
   "outputs": [],
   "source": [
    "\n"
   ]
  }
 ],
 "metadata": {
  "kernelspec": {
   "display_name": "Python 3 (ipykernel)",
   "language": "python",
   "name": "python3"
  },
  "language_info": {
   "codemirror_mode": {
    "name": "ipython",
    "version": 3
   },
   "file_extension": ".py",
   "mimetype": "text/x-python",
   "name": "python",
   "nbconvert_exporter": "python",
   "pygments_lexer": "ipython3",
   "version": "3.9.18"
  }
 },
 "nbformat": 4,
 "nbformat_minor": 5
}
